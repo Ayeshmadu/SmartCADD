{
 "cells": [
  {
   "cell_type": "code",
   "execution_count": 1,
   "metadata": {},
   "outputs": [
    {
     "name": "stderr",
     "output_type": "stream",
     "text": [
      "No normalization for SPS. Feature removed!\n",
      "No normalization for AvgIpc. Feature removed!\n",
      "Skipped loading some Tensorflow models, missing a dependency. No module named 'tensorflow'\n",
      "Skipped loading modules with pytorch-geometric dependency, missing a dependency. No module named 'torch_geometric'\n",
      "Skipped loading modules with transformers dependency. No module named 'transformers'\n",
      "cannot import name 'HuggingFaceModel' from 'deepchem.models.torch_models' (/lustre/work/client/users/ejlaird/.conda/envs/smartcadd-test/lib/python3.11/site-packages/deepchem/models/torch_models/__init__.py)\n",
      "Skipped loading modules with pytorch-geometric dependency, missing a dependency. cannot import name 'DMPNN' from 'deepchem.models.torch_models' (/lustre/work/client/users/ejlaird/.conda/envs/smartcadd-test/lib/python3.11/site-packages/deepchem/models/torch_models/__init__.py)\n",
      "Skipped loading modules with pytorch-lightning dependency, missing a dependency. No module named 'lightning'\n",
      "Skipped loading some Jax models, missing a dependency. No module named 'jax'\n",
      "Skipped loading some PyTorch models, missing a dependency. No module named 'tensorflow'\n"
     ]
    }
   ],
   "source": [
    "import os\n",
    "import sys\n",
    "import pandas as pd\n",
    "\n",
    "sys.path.append(\"/users/ejlaird/Projects/SmartCADD/\")\n",
    "\n",
    "import smartcadd\n",
    "from smartcadd.dataset import IterableDataset\n",
    "from smartcadd.pipeline import BasicCompoundPipeline\n",
    "\n",
    "# set working directory\n",
    "os.chdir(\"/users/ejlaird/Projects/SmartCADD/examples/\")"
   ]
  },
  {
   "cell_type": "markdown",
   "metadata": {},
   "source": [
    "## Building a Pipeline out of Dummy filters"
   ]
  },
  {
   "cell_type": "markdown",
   "metadata": {},
   "source": [
    "### Create a Dataset Iterator"
   ]
  },
  {
   "cell_type": "code",
   "execution_count": 2,
   "metadata": {},
   "outputs": [
    {
     "data": {
      "text/plain": [
       "50000"
      ]
     },
     "execution_count": 2,
     "metadata": {},
     "output_type": "execute_result"
    }
   ],
   "source": [
    "dataset = IterableDataset(\n",
    "    root_dir=\"/work/users/ejlaird/data/chemistry\",\n",
    "    batch_size=10,\n",
    ")\n",
    "len(dataset)"
   ]
  },
  {
   "cell_type": "markdown",
   "metadata": {},
   "source": [
    "### Build the pipeline"
   ]
  },
  {
   "cell_type": "code",
   "execution_count": 3,
   "metadata": {},
   "outputs": [
    {
     "name": "stdout",
     "output_type": "stream",
     "text": [
      "\n",
      "BasicCompoundPipeline: [ (1) DummyFilter -> (2) DummyFilter -> Done ]\n"
     ]
    }
   ],
   "source": [
    "from smartcadd.filters import DummyFilter\n",
    "\n",
    "pipeline = BasicCompoundPipeline(\n",
    "    data_loader=dataset,\n",
    "    filters=[\n",
    "        DummyFilter(),\n",
    "        DummyFilter(),\n",
    "    ],\n",
    ")\n",
    "\n",
    "print(pipeline)"
   ]
  },
  {
   "cell_type": "markdown",
   "metadata": {},
   "source": [
    "### Loop through dataset iterator and run filters for each batch"
   ]
  },
  {
   "cell_type": "code",
   "execution_count": 4,
   "metadata": {},
   "outputs": [
    {
     "data": {
      "text/plain": [
       "[{'smiles': 'CC(C)(O)C1CC[NH+](Cc2ccc3nc(-c4c5cc[nH]c5ccc4F)nc(N4CCOCC4)c3n2)CC1', 'id': 'ZINC000072316390', 'descriptors': {'status': 'OK', 'MolWt': 505.6180000000004, 'MolLogP': 2.714600000000001, 'NumHDonors': 3, 'NumHAcceptors': 6, 'TPSA': 91.60000000000001, 'CalcNumRotatableBonds': 5, 'NumAromaticRings': 4}, 'ring_system_descriptors': {'total_N_aro_members': 23, 'total_N_ali_members': 12, 'total_aro_N_count': 4, 'total_aro_O_count': 0, 'total_ali_O_count': 1, 'total_ali_N_count': 2}},\n",
       " {'smiles': 'Clc1nc(-c2ccccn2)c(-c2ccccn2)nc1N1CC[N@@H+]2C[C@H](OCc3cccnc3)C[C@H]2C1', 'id': 'ZINC001164868914', 'descriptors': {'status': 'OK', 'MolWt': 501.01400000000035, 'MolLogP': 2.7116000000000007, 'NumHDonors': 1, 'NumHAcceptors': 7, 'TPSA': 81.36, 'CalcNumRotatableBonds': 6, 'NumAromaticRings': 4}, 'ring_system_descriptors': {'total_N_aro_members': 24, 'total_N_ali_members': 11, 'total_aro_N_count': 5, 'total_aro_O_count': 0, 'total_ali_O_count': 0, 'total_ali_N_count': 3}},\n",
       " {'smiles': 'Clc1nc(-c2ccccn2)c(-c2ccccn2)nc1N1CC[N@@H+]2C[C@H](OCc3cccnc3)C[C@@H]2C1', 'id': 'ZINC001164868936', 'descriptors': {'status': 'OK', 'MolWt': 501.01400000000035, 'MolLogP': 2.7116000000000007, 'NumHDonors': 1, 'NumHAcceptors': 7, 'TPSA': 81.36, 'CalcNumRotatableBonds': 6, 'NumAromaticRings': 4}, 'ring_system_descriptors': {'total_N_aro_members': 24, 'total_N_ali_members': 11, 'total_aro_N_count': 5, 'total_aro_O_count': 0, 'total_ali_O_count': 0, 'total_ali_N_count': 3}},\n",
       " {'smiles': 'Clc1nc(-c2ccccn2)c(-c2ccccn2)nc1N1CC[N@@H+]2C[C@@H](OCc3cccnc3)C[C@@H]2C1', 'id': 'ZINC001164868939', 'descriptors': {'status': 'OK', 'MolWt': 501.01400000000035, 'MolLogP': 2.7116000000000007, 'NumHDonors': 1, 'NumHAcceptors': 7, 'TPSA': 81.36, 'CalcNumRotatableBonds': 6, 'NumAromaticRings': 4}, 'ring_system_descriptors': {'total_N_aro_members': 24, 'total_N_ali_members': 11, 'total_aro_N_count': 5, 'total_aro_O_count': 0, 'total_ali_O_count': 0, 'total_ali_N_count': 3}},\n",
       " {'smiles': 'Clc1nc(-c2ccccn2)c(-c2ccccn2)nc1N1CC[N@@H+]2C[C@@H](OCc3cccnc3)C[C@H]2C1', 'id': 'ZINC001164868941', 'descriptors': {'status': 'OK', 'MolWt': 501.01400000000035, 'MolLogP': 2.7116000000000007, 'NumHDonors': 1, 'NumHAcceptors': 7, 'TPSA': 81.36, 'CalcNumRotatableBonds': 6, 'NumAromaticRings': 4}, 'ring_system_descriptors': {'total_N_aro_members': 24, 'total_N_ali_members': 11, 'total_aro_N_count': 5, 'total_aro_O_count': 0, 'total_ali_O_count': 0, 'total_ali_N_count': 3}},\n",
       " {'smiles': 'O=C(Nc1cccc(C2=[NH+]CCN2)c1)c1ccc2cc(C(=O)Nc3cccc(C4=[NH+]CCN4)c3)ccc2c1', 'id': 'ZINC000001689092', 'descriptors': {'status': 'OK', 'MolWt': 504.5940000000002, 'MolLogP': 0.2052000000000021, 'NumHDonors': 6, 'NumHAcceptors': 4, 'TPSA': 110.2, 'CalcNumRotatableBonds': 6, 'NumAromaticRings': 4}, 'ring_system_descriptors': {'total_N_aro_members': 24, 'total_N_ali_members': 10, 'total_aro_N_count': 0, 'total_aro_O_count': 0, 'total_ali_O_count': 0, 'total_ali_N_count': 4}},\n",
       " {'smiles': 'O=C(Nc1ccc(C2=[NH+]CCN2)c(Cl)c1)c1ccc(C(=O)Nc2ccc(C3=[NH+]CCN3)c(Cl)c2)cc1', 'id': 'ZINC000001689095', 'descriptors': {'status': 'OK', 'MolWt': 523.4240000000002, 'MolLogP': 0.35880000000000206, 'NumHDonors': 6, 'NumHAcceptors': 4, 'TPSA': 110.2, 'CalcNumRotatableBonds': 6, 'NumAromaticRings': 3}, 'ring_system_descriptors': {'total_N_aro_members': 18, 'total_N_ali_members': 10, 'total_aro_N_count': 0, 'total_aro_O_count': 0, 'total_ali_O_count': 0, 'total_ali_N_count': 4}},\n",
       " {'smiles': 'O=C(Nc1ccc(C2=[NH+]CCN2)cc1)c1cc(Cl)c(C(=O)Nc2ccc(C3=[NH+]CCN3)cc2)cc1Cl', 'id': 'ZINC000001689504', 'descriptors': {'status': 'OK', 'MolWt': 523.4240000000002, 'MolLogP': 0.35880000000000206, 'NumHDonors': 6, 'NumHAcceptors': 4, 'TPSA': 110.2, 'CalcNumRotatableBonds': 6, 'NumAromaticRings': 3}, 'ring_system_descriptors': {'total_N_aro_members': 18, 'total_N_ali_members': 10, 'total_aro_N_count': 0, 'total_aro_O_count': 0, 'total_ali_O_count': 0, 'total_ali_N_count': 4}},\n",
       " {'smiles': 'C[C@H]1C[NH+]=C(Cc2ccc(NC(=O)c3ccc(C(=O)Nc4ccc(CC5=[NH+]C[C@H](C)N5)cc4)cc3)cc2)N1', 'id': 'ZINC000001696457', 'descriptors': {'status': 'OK', 'MolWt': 510.64200000000017, 'MolLogP': 0.21780000000000382, 'NumHDonors': 6, 'NumHAcceptors': 4, 'TPSA': 110.2, 'CalcNumRotatableBonds': 8, 'NumAromaticRings': 3}, 'ring_system_descriptors': {'total_N_aro_members': 18, 'total_N_ali_members': 10, 'total_aro_N_count': 0, 'total_aro_O_count': 0, 'total_ali_O_count': 0, 'total_ali_N_count': 4}},\n",
       " {'smiles': 'C[C@@H]1C[NH+]=C(Cc2ccc(NC(=O)c3ccc(C(=O)Nc4ccc(CC5=[NH+]C[C@H](C)N5)cc4)cc3)cc2)N1', 'id': 'ZINC000001696458', 'descriptors': {'status': 'OK', 'MolWt': 510.64200000000017, 'MolLogP': 0.21780000000000382, 'NumHDonors': 6, 'NumHAcceptors': 4, 'TPSA': 110.2, 'CalcNumRotatableBonds': 8, 'NumAromaticRings': 3}, 'ring_system_descriptors': {'total_N_aro_members': 18, 'total_N_ali_members': 10, 'total_aro_N_count': 0, 'total_aro_O_count': 0, 'total_ali_O_count': 0, 'total_ali_N_count': 4}}]"
      ]
     },
     "execution_count": 4,
     "metadata": {},
     "output_type": "execute_result"
    }
   ],
   "source": [
    "pipeline_results = pipeline.run_filters(steps=1)\n",
    "pipeline_results"
   ]
  },
  {
   "cell_type": "markdown",
   "metadata": {},
   "source": [
    "## Let's build a basic pipeline with real filters"
   ]
  },
  {
   "cell_type": "markdown",
   "metadata": {},
   "source": [
    "### Wrap a pretrained model for use in ModelFilter"
   ]
  },
  {
   "cell_type": "code",
   "execution_count": 5,
   "metadata": {},
   "outputs": [],
   "source": [
    "from smartcadd.model_wrappers import AttentiveFPWrapper\n",
    "\n",
    "MODEL_PARAMS_PATH = (\n",
    "    \"/work/users/ejlaird/models/chemistry/attentive_fp_model_params.pt\"\n",
    ")\n",
    "\n",
    "model_wrapper = AttentiveFPWrapper(\n",
    "    model_params_path=MODEL_PARAMS_PATH,\n",
    "    mode=\"classification\",\n",
    "    n_tasks=1,\n",
    "    dropout=0.3,\n",
    "    num_timesteps=2,  # defaut=2\n",
    "    num_layers=2,  # default = 2\n",
    "    graph_feat_size=200,  # default = 200\n",
    "    number_atom_features=30,  # default = 30\n",
    "    number_bond_features=11,  # default = 11\n",
    "    batch_size=100,\n",
    "    learning_rate=0.001,\n",
    "    regularization_loss=None,\n",
    "    device=\"cpu\",\n",
    ")\n",
    "model_wrapper.load()"
   ]
  },
  {
   "cell_type": "markdown",
   "metadata": {},
   "source": [
    "### Build basic pipeline and add ModelFilter"
   ]
  },
  {
   "cell_type": "code",
   "execution_count": 6,
   "metadata": {},
   "outputs": [
    {
     "name": "stdout",
     "output_type": "stream",
     "text": [
      "\n",
      "BasicCompoundPipeline: [ (1) ModelFilter -> Done ]\n"
     ]
    }
   ],
   "source": [
    "from smartcadd.filters import ModelFilter, ADMETFilter\n",
    "\n",
    "deep_learning_pipeline = BasicCompoundPipeline(\n",
    "    data_loader=dataset,\n",
    "    filters=[\n",
    "        ModelFilter(\n",
    "            model_wrapper=model_wrapper,\n",
    "            target=1,\n",
    "            threshold=0.5,\n",
    "            output_dir=\"./data\",\n",
    "            save_results=True,\n",
    "        ),\n",
    "    ],\n",
    ")\n",
    "print(deep_learning_pipeline)"
   ]
  },
  {
   "cell_type": "markdown",
   "metadata": {},
   "source": [
    "### Run the pipeline\n"
   ]
  },
  {
   "cell_type": "code",
   "execution_count": 7,
   "metadata": {},
   "outputs": [
    {
     "data": {
      "text/plain": [
       "[{'smiles': 'O=C(Nc1cccc(C2=[NH+]CCN2)c1)c1ccc2cc(C(=O)Nc3cccc(C4=[NH+]CCN4)c3)ccc2c1', 'id': 'ZINC000001689092', 'descriptors': {'status': 'OK', 'MolWt': 504.5940000000002, 'MolLogP': 0.2052000000000021, 'NumHDonors': 6, 'NumHAcceptors': 4, 'TPSA': 110.2, 'CalcNumRotatableBonds': 6, 'NumAromaticRings': 4}, 'ring_system_descriptors': {'total_N_aro_members': 24, 'total_N_ali_members': 10, 'total_aro_N_count': 0, 'total_aro_O_count': 0, 'total_ali_O_count': 0, 'total_ali_N_count': 4}},\n",
       " {'smiles': 'O=C(Nc1ccc(C2=[NH+]CCN2)c(Cl)c1)c1ccc(C(=O)Nc2ccc(C3=[NH+]CCN3)c(Cl)c2)cc1', 'id': 'ZINC000001689095', 'descriptors': {'status': 'OK', 'MolWt': 523.4240000000002, 'MolLogP': 0.35880000000000206, 'NumHDonors': 6, 'NumHAcceptors': 4, 'TPSA': 110.2, 'CalcNumRotatableBonds': 6, 'NumAromaticRings': 3}, 'ring_system_descriptors': {'total_N_aro_members': 18, 'total_N_ali_members': 10, 'total_aro_N_count': 0, 'total_aro_O_count': 0, 'total_ali_O_count': 0, 'total_ali_N_count': 4}},\n",
       " {'smiles': 'O=C(Nc1ccc(C2=[NH+]CCN2)cc1)c1cc(Cl)c(C(=O)Nc2ccc(C3=[NH+]CCN3)cc2)cc1Cl', 'id': 'ZINC000001689504', 'descriptors': {'status': 'OK', 'MolWt': 523.4240000000002, 'MolLogP': 0.35880000000000206, 'NumHDonors': 6, 'NumHAcceptors': 4, 'TPSA': 110.2, 'CalcNumRotatableBonds': 6, 'NumAromaticRings': 3}, 'ring_system_descriptors': {'total_N_aro_members': 18, 'total_N_ali_members': 10, 'total_aro_N_count': 0, 'total_aro_O_count': 0, 'total_ali_O_count': 0, 'total_ali_N_count': 4}}]"
      ]
     },
     "execution_count": 7,
     "metadata": {},
     "output_type": "execute_result"
    }
   ],
   "source": [
    "deep_learning_pipeline.run_filters(steps=1)"
   ]
  },
  {
   "cell_type": "markdown",
   "metadata": {},
   "source": [
    "### Check results in saved csv"
   ]
  },
  {
   "cell_type": "code",
   "execution_count": 8,
   "metadata": {},
   "outputs": [
    {
     "data": {
      "text/html": [
       "<div>\n",
       "<style scoped>\n",
       "    .dataframe tbody tr th:only-of-type {\n",
       "        vertical-align: middle;\n",
       "    }\n",
       "\n",
       "    .dataframe tbody tr th {\n",
       "        vertical-align: top;\n",
       "    }\n",
       "\n",
       "    .dataframe thead th {\n",
       "        text-align: right;\n",
       "    }\n",
       "</style>\n",
       "<table border=\"1\" class=\"dataframe\">\n",
       "  <thead>\n",
       "    <tr style=\"text-align: right;\">\n",
       "      <th></th>\n",
       "      <th>SMILES</th>\n",
       "      <th>ID</th>\n",
       "      <th>Prediction</th>\n",
       "    </tr>\n",
       "  </thead>\n",
       "  <tbody>\n",
       "    <tr>\n",
       "      <th>5</th>\n",
       "      <td>O=C(Nc1cccc(C2=[NH+]CCN2)c1)c1ccc2cc(C(=O)Nc3c...</td>\n",
       "      <td>ZINC000001689092</td>\n",
       "      <td>0.998</td>\n",
       "    </tr>\n",
       "    <tr>\n",
       "      <th>6</th>\n",
       "      <td>O=C(Nc1ccc(C2=[NH+]CCN2)c(Cl)c1)c1ccc(C(=O)Nc2...</td>\n",
       "      <td>ZINC000001689095</td>\n",
       "      <td>0.837</td>\n",
       "    </tr>\n",
       "    <tr>\n",
       "      <th>7</th>\n",
       "      <td>O=C(Nc1ccc(C2=[NH+]CCN2)cc1)c1cc(Cl)c(C(=O)Nc2...</td>\n",
       "      <td>ZINC000001689504</td>\n",
       "      <td>0.833</td>\n",
       "    </tr>\n",
       "    <tr>\n",
       "      <th>15</th>\n",
       "      <td>O=C(Nc1cccc(C2=[NH+]CCN2)c1)c1ccc2cc(C(=O)Nc3c...</td>\n",
       "      <td>ZINC000001689092</td>\n",
       "      <td>0.998</td>\n",
       "    </tr>\n",
       "    <tr>\n",
       "      <th>16</th>\n",
       "      <td>O=C(Nc1ccc(C2=[NH+]CCN2)c(Cl)c1)c1ccc(C(=O)Nc2...</td>\n",
       "      <td>ZINC000001689095</td>\n",
       "      <td>0.837</td>\n",
       "    </tr>\n",
       "    <tr>\n",
       "      <th>...</th>\n",
       "      <td>...</td>\n",
       "      <td>...</td>\n",
       "      <td>...</td>\n",
       "    </tr>\n",
       "    <tr>\n",
       "      <th>797</th>\n",
       "      <td>O=C(/C=C/c1ccc(/C=C/C(=O)Nc2cccc(C3=[NH+]CCCN3...</td>\n",
       "      <td>ZINC000104051067</td>\n",
       "      <td>0.999</td>\n",
       "    </tr>\n",
       "    <tr>\n",
       "      <th>812</th>\n",
       "      <td>CCc1ccc(N2NC(=O)/C(=C/c3ccc(-c4ccc(S(=O)(=O)[N...</td>\n",
       "      <td>ZINC000002126864</td>\n",
       "      <td>0.001</td>\n",
       "    </tr>\n",
       "    <tr>\n",
       "      <th>825</th>\n",
       "      <td>O=C(Nc1cccc(C2=[NH+]CCN2)c1)c1ccc2cc(C(=O)Nc3c...</td>\n",
       "      <td>ZINC000001689092</td>\n",
       "      <td>0.998</td>\n",
       "    </tr>\n",
       "    <tr>\n",
       "      <th>826</th>\n",
       "      <td>O=C(Nc1ccc(C2=[NH+]CCN2)c(Cl)c1)c1ccc(C(=O)Nc2...</td>\n",
       "      <td>ZINC000001689095</td>\n",
       "      <td>0.837</td>\n",
       "    </tr>\n",
       "    <tr>\n",
       "      <th>827</th>\n",
       "      <td>O=C(Nc1ccc(C2=[NH+]CCN2)cc1)c1cc(Cl)c(C(=O)Nc2...</td>\n",
       "      <td>ZINC000001689504</td>\n",
       "      <td>0.833</td>\n",
       "    </tr>\n",
       "  </tbody>\n",
       "</table>\n",
       "<p>205 rows × 3 columns</p>\n",
       "</div>"
      ],
      "text/plain": [
       "                                                SMILES                ID  \\\n",
       "5    O=C(Nc1cccc(C2=[NH+]CCN2)c1)c1ccc2cc(C(=O)Nc3c...  ZINC000001689092   \n",
       "6    O=C(Nc1ccc(C2=[NH+]CCN2)c(Cl)c1)c1ccc(C(=O)Nc2...  ZINC000001689095   \n",
       "7    O=C(Nc1ccc(C2=[NH+]CCN2)cc1)c1cc(Cl)c(C(=O)Nc2...  ZINC000001689504   \n",
       "15   O=C(Nc1cccc(C2=[NH+]CCN2)c1)c1ccc2cc(C(=O)Nc3c...  ZINC000001689092   \n",
       "16   O=C(Nc1ccc(C2=[NH+]CCN2)c(Cl)c1)c1ccc(C(=O)Nc2...  ZINC000001689095   \n",
       "..                                                 ...               ...   \n",
       "797  O=C(/C=C/c1ccc(/C=C/C(=O)Nc2cccc(C3=[NH+]CCCN3...  ZINC000104051067   \n",
       "812  CCc1ccc(N2NC(=O)/C(=C/c3ccc(-c4ccc(S(=O)(=O)[N...  ZINC000002126864   \n",
       "825  O=C(Nc1cccc(C2=[NH+]CCN2)c1)c1ccc2cc(C(=O)Nc3c...  ZINC000001689092   \n",
       "826  O=C(Nc1ccc(C2=[NH+]CCN2)c(Cl)c1)c1ccc(C(=O)Nc2...  ZINC000001689095   \n",
       "827  O=C(Nc1ccc(C2=[NH+]CCN2)cc1)c1cc(Cl)c(C(=O)Nc2...  ZINC000001689504   \n",
       "\n",
       "     Prediction  \n",
       "5         0.998  \n",
       "6         0.837  \n",
       "7         0.833  \n",
       "15        0.998  \n",
       "16        0.837  \n",
       "..          ...  \n",
       "797       0.999  \n",
       "812       0.001  \n",
       "825       0.998  \n",
       "826       0.837  \n",
       "827       0.833  \n",
       "\n",
       "[205 rows x 3 columns]"
      ]
     },
     "execution_count": 8,
     "metadata": {},
     "output_type": "execute_result"
    }
   ],
   "source": [
    "deep_learning_results = pd.read_csv(\"./data/model_filtered.csv\")\n",
    "deep_learning_results[deep_learning_results[\"Prediction\"] > 0.0]"
   ]
  },
  {
   "cell_type": "markdown",
   "metadata": {},
   "source": [
    "## Building a custom filter using the Filter Interface"
   ]
  },
  {
   "cell_type": "code",
   "execution_count": 9,
   "metadata": {},
   "outputs": [],
   "source": [
    "from smartcadd.filters import Filter\n",
    "from random import random\n",
    "\n",
    "\n",
    "class RandomFilter(Filter):\n",
    "    \"\"\"\n",
    "    An example filter that randomly selects compounds\n",
    "    \"\"\"\n",
    "\n",
    "    def __init__(self, threshold):\n",
    "        super().__init__()\n",
    "\n",
    "        self.threshold = threshold\n",
    "\n",
    "    def run(self, batch):\n",
    "\n",
    "        # select a random number of compounds to keep\n",
    "        mask = [random() > self.threshold for _ in range(len(batch))]\n",
    "        return [compound for compound, keep in zip(batch, mask) if keep]"
   ]
  },
  {
   "cell_type": "markdown",
   "metadata": {},
   "source": [
    "### Append new filter to existing Pipeline"
   ]
  },
  {
   "cell_type": "code",
   "execution_count": 10,
   "metadata": {},
   "outputs": [
    {
     "name": "stdout",
     "output_type": "stream",
     "text": [
      "\n",
      "BasicCompoundPipeline: [ (1) ModelFilter -> (2) RandomFilter -> Done ]\n"
     ]
    }
   ],
   "source": [
    "deep_learning_pipeline.append_filter(RandomFilter(threshold=0.3))\n",
    "print(deep_learning_pipeline)"
   ]
  },
  {
   "cell_type": "code",
   "execution_count": 11,
   "metadata": {},
   "outputs": [
    {
     "name": "stdout",
     "output_type": "stream",
     "text": [
      "Length of results after filtering: 6\n"
     ]
    }
   ],
   "source": [
    "filtered_compounds = deep_learning_pipeline.run_filters(steps=5)\n",
    "print(f\"Length of results after filtering: {len(filtered_compounds)}\")"
   ]
  },
  {
   "cell_type": "markdown",
   "metadata": {},
   "source": [
    "### ADMET Filtering"
   ]
  },
  {
   "cell_type": "code",
   "execution_count": 12,
   "metadata": {},
   "outputs": [
    {
     "name": "stdout",
     "output_type": "stream",
     "text": [
      "\n",
      "BasicCompoundPipeline: [ (1) ADMETFilter -> Done ]\n"
     ]
    }
   ],
   "source": [
    "from smartcadd.filters import ADMETFilter\n",
    "\n",
    "ALERT_COLLECTION_PATH = (\n",
    "    \"/work/users/ejlaird/data/chemistry/alert_collection.csv\"\n",
    ")\n",
    "\n",
    "admet_pipeline = BasicCompoundPipeline(\n",
    "    data_loader=dataset,\n",
    "    filters=[\n",
    "        ADMETFilter(\n",
    "            alert_collection_path=ALERT_COLLECTION_PATH,\n",
    "            output_dir=\"./data\",\n",
    "            save_results=True,\n",
    "        ),\n",
    "    ],\n",
    ")\n",
    "print(admet_pipeline)"
   ]
  },
  {
   "cell_type": "code",
   "execution_count": 13,
   "metadata": {},
   "outputs": [
    {
     "name": "stdout",
     "output_type": "stream",
     "text": [
      "Length of batch after filtering: 38\n"
     ]
    }
   ],
   "source": [
    "admet_filtered_compounds = admet_pipeline.run_filters(steps=5)\n",
    "print(f\"Length of batch after filtering: {len(admet_filtered_compounds)}\")"
   ]
  },
  {
   "cell_type": "markdown",
   "metadata": {},
   "source": [
    "### Check results in saved csv"
   ]
  },
  {
   "cell_type": "code",
   "execution_count": 14,
   "metadata": {},
   "outputs": [
    {
     "data": {
      "text/html": [
       "<div>\n",
       "<style scoped>\n",
       "    .dataframe tbody tr th:only-of-type {\n",
       "        vertical-align: middle;\n",
       "    }\n",
       "\n",
       "    .dataframe tbody tr th {\n",
       "        vertical-align: top;\n",
       "    }\n",
       "\n",
       "    .dataframe thead th {\n",
       "        text-align: right;\n",
       "    }\n",
       "</style>\n",
       "<table border=\"1\" class=\"dataframe\">\n",
       "  <thead>\n",
       "    <tr style=\"text-align: right;\">\n",
       "      <th></th>\n",
       "      <th>smiles</th>\n",
       "      <th>id</th>\n",
       "      <th>status</th>\n",
       "      <th>MolWt</th>\n",
       "      <th>MolLogP</th>\n",
       "      <th>NumHDonors</th>\n",
       "      <th>NumHAcceptors</th>\n",
       "      <th>TPSA</th>\n",
       "      <th>CalcNumRotatableBonds</th>\n",
       "      <th>NumAromaticRings</th>\n",
       "      <th>total_N_aro_members</th>\n",
       "      <th>total_N_ali_members</th>\n",
       "      <th>total_aro_N_count</th>\n",
       "      <th>total_aro_O_count</th>\n",
       "      <th>total_ali_O_count</th>\n",
       "      <th>total_ali_N_count</th>\n",
       "      <th>keep</th>\n",
       "    </tr>\n",
       "  </thead>\n",
       "  <tbody>\n",
       "    <tr>\n",
       "      <th>38</th>\n",
       "      <td>COc1ccc(N2C(=O)/C(=C\\c3cc(C)n(-c4ccc(Cl)c(C(=O...</td>\n",
       "      <td>ZINC000000681904</td>\n",
       "      <td>OK</td>\n",
       "      <td>538.989</td>\n",
       "      <td>2.95954</td>\n",
       "      <td>1</td>\n",
       "      <td>8</td>\n",
       "      <td>112.93</td>\n",
       "      <td>6</td>\n",
       "      <td>3</td>\n",
       "      <td>17</td>\n",
       "      <td>6</td>\n",
       "      <td>1</td>\n",
       "      <td>0</td>\n",
       "      <td>0</td>\n",
       "      <td>2</td>\n",
       "      <td>False</td>\n",
       "    </tr>\n",
       "    <tr>\n",
       "      <th>39</th>\n",
       "      <td>Cc1ccc(N2C(=O)/C(=C/c3cc(Br)c([O-])c(Br)c3)C(=...</td>\n",
       "      <td>ZINC000000714676</td>\n",
       "      <td>OK</td>\n",
       "      <td>509.199</td>\n",
       "      <td>3.73334</td>\n",
       "      <td>1</td>\n",
       "      <td>4</td>\n",
       "      <td>72.47</td>\n",
       "      <td>2</td>\n",
       "      <td>2</td>\n",
       "      <td>12</td>\n",
       "      <td>6</td>\n",
       "      <td>0</td>\n",
       "      <td>0</td>\n",
       "      <td>0</td>\n",
       "      <td>2</td>\n",
       "      <td>False</td>\n",
       "    </tr>\n",
       "    <tr>\n",
       "      <th>40</th>\n",
       "      <td>CCOc1ccc(N2C(=O)/C(=C/c3ccc(OCc4ccc(C(=O)[O-])...</td>\n",
       "      <td>ZINC000001201230</td>\n",
       "      <td>OK</td>\n",
       "      <td>531.566</td>\n",
       "      <td>2.86770</td>\n",
       "      <td>1</td>\n",
       "      <td>8</td>\n",
       "      <td>117.23</td>\n",
       "      <td>9</td>\n",
       "      <td>3</td>\n",
       "      <td>18</td>\n",
       "      <td>6</td>\n",
       "      <td>0</td>\n",
       "      <td>0</td>\n",
       "      <td>0</td>\n",
       "      <td>2</td>\n",
       "      <td>False</td>\n",
       "    </tr>\n",
       "    <tr>\n",
       "      <th>41</th>\n",
       "      <td>COc1cc(Br)c(Br)c([C@H]2Nc3sc4c(c3C(=O)N2)CC[N@...</td>\n",
       "      <td>ZINC000001250478</td>\n",
       "      <td>OK</td>\n",
       "      <td>504.224</td>\n",
       "      <td>2.41220</td>\n",
       "      <td>4</td>\n",
       "      <td>5</td>\n",
       "      <td>75.03</td>\n",
       "      <td>2</td>\n",
       "      <td>2</td>\n",
       "      <td>15</td>\n",
       "      <td>8</td>\n",
       "      <td>0</td>\n",
       "      <td>0</td>\n",
       "      <td>0</td>\n",
       "      <td>3</td>\n",
       "      <td>False</td>\n",
       "    </tr>\n",
       "    <tr>\n",
       "      <th>42</th>\n",
       "      <td>CCc1ccc(N2NC(=O)/C(=C/c3ccc(-c4ccc(S(=O)(=O)[N...</td>\n",
       "      <td>ZINC000002126864</td>\n",
       "      <td>OK</td>\n",
       "      <td>519.584</td>\n",
       "      <td>4.82100</td>\n",
       "      <td>1</td>\n",
       "      <td>7</td>\n",
       "      <td>123.68</td>\n",
       "      <td>7</td>\n",
       "      <td>4</td>\n",
       "      <td>22</td>\n",
       "      <td>5</td>\n",
       "      <td>1</td>\n",
       "      <td>1</td>\n",
       "      <td>0</td>\n",
       "      <td>2</td>\n",
       "      <td>False</td>\n",
       "    </tr>\n",
       "    <tr>\n",
       "      <th>...</th>\n",
       "      <td>...</td>\n",
       "      <td>...</td>\n",
       "      <td>...</td>\n",
       "      <td>...</td>\n",
       "      <td>...</td>\n",
       "      <td>...</td>\n",
       "      <td>...</td>\n",
       "      <td>...</td>\n",
       "      <td>...</td>\n",
       "      <td>...</td>\n",
       "      <td>...</td>\n",
       "      <td>...</td>\n",
       "      <td>...</td>\n",
       "      <td>...</td>\n",
       "      <td>...</td>\n",
       "      <td>...</td>\n",
       "      <td>...</td>\n",
       "    </tr>\n",
       "    <tr>\n",
       "      <th>565</th>\n",
       "      <td>CCOc1ccc(N2C(=O)/C(=C/c3ccc(OCc4cccc(C(=O)[O-]...</td>\n",
       "      <td>ZINC000002308579</td>\n",
       "      <td>OK</td>\n",
       "      <td>501.540</td>\n",
       "      <td>2.85910</td>\n",
       "      <td>1</td>\n",
       "      <td>7</td>\n",
       "      <td>108.00</td>\n",
       "      <td>8</td>\n",
       "      <td>3</td>\n",
       "      <td>18</td>\n",
       "      <td>6</td>\n",
       "      <td>0</td>\n",
       "      <td>0</td>\n",
       "      <td>0</td>\n",
       "      <td>2</td>\n",
       "      <td>False</td>\n",
       "    </tr>\n",
       "    <tr>\n",
       "      <th>566</th>\n",
       "      <td>COc1ccc(N2C(=O)/C(=C/c3cc(C)n(-c4ccc(Cl)c(C(=O...</td>\n",
       "      <td>ZINC000002783351</td>\n",
       "      <td>OK</td>\n",
       "      <td>508.963</td>\n",
       "      <td>2.95094</td>\n",
       "      <td>1</td>\n",
       "      <td>7</td>\n",
       "      <td>103.70</td>\n",
       "      <td>5</td>\n",
       "      <td>3</td>\n",
       "      <td>17</td>\n",
       "      <td>6</td>\n",
       "      <td>1</td>\n",
       "      <td>0</td>\n",
       "      <td>0</td>\n",
       "      <td>2</td>\n",
       "      <td>False</td>\n",
       "    </tr>\n",
       "    <tr>\n",
       "      <th>567</th>\n",
       "      <td>COc1cc(/C=C2\\C(=O)NC(=S)N(c3ccc(Cl)cc3)C2=O)cc...</td>\n",
       "      <td>ZINC000002908281</td>\n",
       "      <td>OK</td>\n",
       "      <td>521.958</td>\n",
       "      <td>3.12240</td>\n",
       "      <td>1</td>\n",
       "      <td>7</td>\n",
       "      <td>108.00</td>\n",
       "      <td>7</td>\n",
       "      <td>3</td>\n",
       "      <td>18</td>\n",
       "      <td>6</td>\n",
       "      <td>0</td>\n",
       "      <td>0</td>\n",
       "      <td>0</td>\n",
       "      <td>2</td>\n",
       "      <td>False</td>\n",
       "    </tr>\n",
       "    <tr>\n",
       "      <th>568</th>\n",
       "      <td>CCOc1cc(C=C2C(=O)[N-]C(=S)NC2=O)cc(Br)c1OCc1cc...</td>\n",
       "      <td>ZINC000002933000</td>\n",
       "      <td>OK</td>\n",
       "      <td>505.326</td>\n",
       "      <td>4.03340</td>\n",
       "      <td>1</td>\n",
       "      <td>7</td>\n",
       "      <td>121.87</td>\n",
       "      <td>7</td>\n",
       "      <td>2</td>\n",
       "      <td>12</td>\n",
       "      <td>6</td>\n",
       "      <td>0</td>\n",
       "      <td>0</td>\n",
       "      <td>0</td>\n",
       "      <td>2</td>\n",
       "      <td>False</td>\n",
       "    </tr>\n",
       "    <tr>\n",
       "      <th>569</th>\n",
       "      <td>CCOc1cc(/C=C2\\C(=O)[N-]C(=S)NC2=O)cc(Br)c1OCc1...</td>\n",
       "      <td>ZINC000002933000</td>\n",
       "      <td>OK</td>\n",
       "      <td>505.326</td>\n",
       "      <td>4.03340</td>\n",
       "      <td>1</td>\n",
       "      <td>7</td>\n",
       "      <td>121.87</td>\n",
       "      <td>7</td>\n",
       "      <td>2</td>\n",
       "      <td>12</td>\n",
       "      <td>6</td>\n",
       "      <td>0</td>\n",
       "      <td>0</td>\n",
       "      <td>0</td>\n",
       "      <td>2</td>\n",
       "      <td>False</td>\n",
       "    </tr>\n",
       "  </tbody>\n",
       "</table>\n",
       "<p>150 rows × 17 columns</p>\n",
       "</div>"
      ],
      "text/plain": [
       "                                                smiles                id  \\\n",
       "38   COc1ccc(N2C(=O)/C(=C\\c3cc(C)n(-c4ccc(Cl)c(C(=O...  ZINC000000681904   \n",
       "39   Cc1ccc(N2C(=O)/C(=C/c3cc(Br)c([O-])c(Br)c3)C(=...  ZINC000000714676   \n",
       "40   CCOc1ccc(N2C(=O)/C(=C/c3ccc(OCc4ccc(C(=O)[O-])...  ZINC000001201230   \n",
       "41   COc1cc(Br)c(Br)c([C@H]2Nc3sc4c(c3C(=O)N2)CC[N@...  ZINC000001250478   \n",
       "42   CCc1ccc(N2NC(=O)/C(=C/c3ccc(-c4ccc(S(=O)(=O)[N...  ZINC000002126864   \n",
       "..                                                 ...               ...   \n",
       "565  CCOc1ccc(N2C(=O)/C(=C/c3ccc(OCc4cccc(C(=O)[O-]...  ZINC000002308579   \n",
       "566  COc1ccc(N2C(=O)/C(=C/c3cc(C)n(-c4ccc(Cl)c(C(=O...  ZINC000002783351   \n",
       "567  COc1cc(/C=C2\\C(=O)NC(=S)N(c3ccc(Cl)cc3)C2=O)cc...  ZINC000002908281   \n",
       "568  CCOc1cc(C=C2C(=O)[N-]C(=S)NC2=O)cc(Br)c1OCc1cc...  ZINC000002933000   \n",
       "569  CCOc1cc(/C=C2\\C(=O)[N-]C(=S)NC2=O)cc(Br)c1OCc1...  ZINC000002933000   \n",
       "\n",
       "    status    MolWt  MolLogP  NumHDonors  NumHAcceptors    TPSA  \\\n",
       "38      OK  538.989  2.95954           1              8  112.93   \n",
       "39      OK  509.199  3.73334           1              4   72.47   \n",
       "40      OK  531.566  2.86770           1              8  117.23   \n",
       "41      OK  504.224  2.41220           4              5   75.03   \n",
       "42      OK  519.584  4.82100           1              7  123.68   \n",
       "..     ...      ...      ...         ...            ...     ...   \n",
       "565     OK  501.540  2.85910           1              7  108.00   \n",
       "566     OK  508.963  2.95094           1              7  103.70   \n",
       "567     OK  521.958  3.12240           1              7  108.00   \n",
       "568     OK  505.326  4.03340           1              7  121.87   \n",
       "569     OK  505.326  4.03340           1              7  121.87   \n",
       "\n",
       "     CalcNumRotatableBonds  NumAromaticRings  total_N_aro_members  \\\n",
       "38                       6                 3                   17   \n",
       "39                       2                 2                   12   \n",
       "40                       9                 3                   18   \n",
       "41                       2                 2                   15   \n",
       "42                       7                 4                   22   \n",
       "..                     ...               ...                  ...   \n",
       "565                      8                 3                   18   \n",
       "566                      5                 3                   17   \n",
       "567                      7                 3                   18   \n",
       "568                      7                 2                   12   \n",
       "569                      7                 2                   12   \n",
       "\n",
       "     total_N_ali_members  total_aro_N_count  total_aro_O_count  \\\n",
       "38                     6                  1                  0   \n",
       "39                     6                  0                  0   \n",
       "40                     6                  0                  0   \n",
       "41                     8                  0                  0   \n",
       "42                     5                  1                  1   \n",
       "..                   ...                ...                ...   \n",
       "565                    6                  0                  0   \n",
       "566                    6                  1                  0   \n",
       "567                    6                  0                  0   \n",
       "568                    6                  0                  0   \n",
       "569                    6                  0                  0   \n",
       "\n",
       "     total_ali_O_count  total_ali_N_count   keep  \n",
       "38                   0                  2  False  \n",
       "39                   0                  2  False  \n",
       "40                   0                  2  False  \n",
       "41                   0                  3  False  \n",
       "42                   0                  2  False  \n",
       "..                 ...                ...    ...  \n",
       "565                  0                  2  False  \n",
       "566                  0                  2  False  \n",
       "567                  0                  2  False  \n",
       "568                  0                  2  False  \n",
       "569                  0                  2  False  \n",
       "\n",
       "[150 rows x 17 columns]"
      ]
     },
     "execution_count": 14,
     "metadata": {},
     "output_type": "execute_result"
    }
   ],
   "source": [
    "import pandas as pd\n",
    "\n",
    "admet_results = pd.read_csv(\"./data/ADMET_filtered.csv\")\n",
    "admet_results[admet_results[\"keep\"] == False]"
   ]
  },
  {
   "cell_type": "markdown",
   "metadata": {},
   "source": [
    "## 2D Pharmacophore Filtering"
   ]
  },
  {
   "cell_type": "code",
   "execution_count": 15,
   "metadata": {},
   "outputs": [],
   "source": [
    "from smartcadd.data import Compound\n",
    "\n",
    "template_compound_smiles = {\n",
    "    \"rilpivirine\": \"CC1=CC(=CC(=C1NC2=NC(=NC=C2)NC3=CC=C(C=C3)C#N)C)/C=C/C#N\",\n",
    "    \"etravirine\": \"CC1=CC(=CC(=C1OC2=NC(=NC(=C2Br)N)NC3=CC=C(C=C3)C#N)C)C#N\",\n",
    "}\n",
    "\n",
    "template_compounds = [\n",
    "    Compound(smiles=smiles, id=drug)\n",
    "    for drug, smiles in template_compound_smiles.items()\n",
    "]"
   ]
  },
  {
   "cell_type": "markdown",
   "metadata": {},
   "source": [
    "### Check minimum values of template compounds for 2D Pharmacophore Filtering"
   ]
  },
  {
   "cell_type": "code",
   "execution_count": 16,
   "metadata": {},
   "outputs": [
    {
     "data": {
      "text/plain": [
       "{'smiles': 'CC1=CC(=CC(=C1NC2=NC(=NC=C2)NC3=CC=C(C=C3)C#N)C)/C=C/C#N',\n",
       " 'id': 'etravirine',\n",
       " 'status': 'OK',\n",
       " 'MolWt': 366.4280000000001,\n",
       " 'MolLogP': 4.717400000000003,\n",
       " 'NumHDonors': 2,\n",
       " 'NumHAcceptors': 6,\n",
       " 'TPSA': 97.41999999999999,\n",
       " 'CalcNumRotatableBonds': 4,\n",
       " 'NumAromaticRings': 3,\n",
       " 'total_N_aro_members': 18,\n",
       " 'total_N_ali_members': 0,\n",
       " 'total_aro_N_count': 2,\n",
       " 'total_aro_O_count': 0,\n",
       " 'total_ali_O_count': 0,\n",
       " 'total_ali_N_count': 0}"
      ]
     },
     "execution_count": 16,
     "metadata": {},
     "output_type": "execute_result"
    }
   ],
   "source": [
    "min_df = pd.concat(compound.to_df() for compound in template_compounds)\n",
    "min_df.min(axis=0).to_dict()"
   ]
  },
  {
   "cell_type": "code",
   "execution_count": 17,
   "metadata": {},
   "outputs": [
    {
     "name": "stdout",
     "output_type": "stream",
     "text": [
      "\n",
      "BasicCompoundPipeline: [ (1) PharmacophoreFilter2D -> Done ]\n"
     ]
    }
   ],
   "source": [
    "from smartcadd.filters import PharmacophoreFilter2D\n",
    "\n",
    "pharmacophore_pipeline = BasicCompoundPipeline(\n",
    "    data_loader=dataset,\n",
    "    filters=[\n",
    "        PharmacophoreFilter2D(\n",
    "            template_compounds=template_compounds,\n",
    "            output_dir=\"./data\",\n",
    "            save_results=True,\n",
    "        ),\n",
    "    ],\n",
    ")\n",
    "print(pharmacophore_pipeline)"
   ]
  },
  {
   "cell_type": "code",
   "execution_count": 18,
   "metadata": {},
   "outputs": [
    {
     "name": "stdout",
     "output_type": "stream",
     "text": [
      "Length of batch after filtering: 0\n"
     ]
    }
   ],
   "source": [
    "pharmacophore_filtered_compounds = pharmacophore_pipeline.run_filters(steps=20)\n",
    "print(\n",
    "    f\"Length of batch after filtering: {len(pharmacophore_filtered_compounds)}\"\n",
    ")"
   ]
  },
  {
   "cell_type": "markdown",
   "metadata": {},
   "source": [
    "## Data Type Conversion Modules and Geometry Optimization"
   ]
  },
  {
   "cell_type": "code",
   "execution_count": 19,
   "metadata": {},
   "outputs": [
    {
     "name": "stdout",
     "output_type": "stream",
     "text": [
      "\n",
      "BasicCompoundPipeline: [ (1) SMILETo3D -> Done ]\n",
      "Saving 3D coordinates to ./data/3D_coordinates.csv\n"
     ]
    }
   ],
   "source": [
    "from smartcadd.modules import SMILETo3D, XTBOptimization\n",
    "\n",
    "geometry_optimization_pipeline = BasicCompoundPipeline(\n",
    "    data_loader=dataset,\n",
    "    filters=[\n",
    "        SMILETo3D(\n",
    "            modify=True,\n",
    "            output_dir=\"./data\",\n",
    "            save_results=True,\n",
    "        ),\n",
    "    ],\n",
    ")\n",
    "print(geometry_optimization_pipeline)\n",
    "print(\"Saving 3D coordinates to ./data/3D_coordinates.csv\")"
   ]
  },
  {
   "cell_type": "code",
   "execution_count": 20,
   "metadata": {},
   "outputs": [],
   "source": [
    "transformed_compounds = geometry_optimization_pipeline.run_filters(steps=1)"
   ]
  },
  {
   "cell_type": "markdown",
   "metadata": {},
   "source": [
    "### Load newly created pdb file paths"
   ]
  },
  {
   "cell_type": "code",
   "execution_count": 21,
   "metadata": {},
   "outputs": [
    {
     "data": {
      "text/html": [
       "<div>\n",
       "<style scoped>\n",
       "    .dataframe tbody tr th:only-of-type {\n",
       "        vertical-align: middle;\n",
       "    }\n",
       "\n",
       "    .dataframe tbody tr th {\n",
       "        vertical-align: top;\n",
       "    }\n",
       "\n",
       "    .dataframe thead th {\n",
       "        text-align: right;\n",
       "    }\n",
       "</style>\n",
       "<table border=\"1\" class=\"dataframe\">\n",
       "  <thead>\n",
       "    <tr style=\"text-align: right;\">\n",
       "      <th></th>\n",
       "      <th>SMILES</th>\n",
       "      <th>ID</th>\n",
       "      <th>PDB_PATH</th>\n",
       "    </tr>\n",
       "  </thead>\n",
       "  <tbody>\n",
       "    <tr>\n",
       "      <th>0</th>\n",
       "      <td>CC(C)(O)C1CC[NH+](Cc2ccc3nc(-c4c5cc[nH]c5ccc4F...</td>\n",
       "      <td>ZINC000072316390</td>\n",
       "      <td>./data/3D_coordinates/ZINC000072316390.pdb</td>\n",
       "    </tr>\n",
       "    <tr>\n",
       "      <th>1</th>\n",
       "      <td>Clc1nc(-c2ccccn2)c(-c2ccccn2)nc1N1CC[N@@H+]2C[...</td>\n",
       "      <td>ZINC001164868914</td>\n",
       "      <td>./data/3D_coordinates/ZINC001164868914.pdb</td>\n",
       "    </tr>\n",
       "    <tr>\n",
       "      <th>2</th>\n",
       "      <td>Clc1nc(-c2ccccn2)c(-c2ccccn2)nc1N1CC[N@@H+]2C[...</td>\n",
       "      <td>ZINC001164868936</td>\n",
       "      <td>./data/3D_coordinates/ZINC001164868936.pdb</td>\n",
       "    </tr>\n",
       "    <tr>\n",
       "      <th>3</th>\n",
       "      <td>Clc1nc(-c2ccccn2)c(-c2ccccn2)nc1N1CC[N@@H+]2C[...</td>\n",
       "      <td>ZINC001164868939</td>\n",
       "      <td>./data/3D_coordinates/ZINC001164868939.pdb</td>\n",
       "    </tr>\n",
       "    <tr>\n",
       "      <th>4</th>\n",
       "      <td>Clc1nc(-c2ccccn2)c(-c2ccccn2)nc1N1CC[N@@H+]2C[...</td>\n",
       "      <td>ZINC001164868941</td>\n",
       "      <td>./data/3D_coordinates/ZINC001164868941.pdb</td>\n",
       "    </tr>\n",
       "    <tr>\n",
       "      <th>5</th>\n",
       "      <td>O=C(Nc1cccc(C2=[NH+]CCN2)c1)c1ccc2cc(C(=O)Nc3c...</td>\n",
       "      <td>ZINC000001689092</td>\n",
       "      <td>./data/3D_coordinates/ZINC000001689092.pdb</td>\n",
       "    </tr>\n",
       "    <tr>\n",
       "      <th>6</th>\n",
       "      <td>O=C(Nc1ccc(C2=[NH+]CCN2)c(Cl)c1)c1ccc(C(=O)Nc2...</td>\n",
       "      <td>ZINC000001689095</td>\n",
       "      <td>./data/3D_coordinates/ZINC000001689095.pdb</td>\n",
       "    </tr>\n",
       "    <tr>\n",
       "      <th>7</th>\n",
       "      <td>O=C(Nc1ccc(C2=[NH+]CCN2)cc1)c1cc(Cl)c(C(=O)Nc2...</td>\n",
       "      <td>ZINC000001689504</td>\n",
       "      <td>./data/3D_coordinates/ZINC000001689504.pdb</td>\n",
       "    </tr>\n",
       "    <tr>\n",
       "      <th>8</th>\n",
       "      <td>C[C@H]1C[NH+]=C(Cc2ccc(NC(=O)c3ccc(C(=O)Nc4ccc...</td>\n",
       "      <td>ZINC000001696457</td>\n",
       "      <td>./data/3D_coordinates/ZINC000001696457.pdb</td>\n",
       "    </tr>\n",
       "    <tr>\n",
       "      <th>9</th>\n",
       "      <td>C[C@@H]1C[NH+]=C(Cc2ccc(NC(=O)c3ccc(C(=O)Nc4cc...</td>\n",
       "      <td>ZINC000001696458</td>\n",
       "      <td>./data/3D_coordinates/ZINC000001696458.pdb</td>\n",
       "    </tr>\n",
       "  </tbody>\n",
       "</table>\n",
       "</div>"
      ],
      "text/plain": [
       "                                              SMILES                ID  \\\n",
       "0  CC(C)(O)C1CC[NH+](Cc2ccc3nc(-c4c5cc[nH]c5ccc4F...  ZINC000072316390   \n",
       "1  Clc1nc(-c2ccccn2)c(-c2ccccn2)nc1N1CC[N@@H+]2C[...  ZINC001164868914   \n",
       "2  Clc1nc(-c2ccccn2)c(-c2ccccn2)nc1N1CC[N@@H+]2C[...  ZINC001164868936   \n",
       "3  Clc1nc(-c2ccccn2)c(-c2ccccn2)nc1N1CC[N@@H+]2C[...  ZINC001164868939   \n",
       "4  Clc1nc(-c2ccccn2)c(-c2ccccn2)nc1N1CC[N@@H+]2C[...  ZINC001164868941   \n",
       "5  O=C(Nc1cccc(C2=[NH+]CCN2)c1)c1ccc2cc(C(=O)Nc3c...  ZINC000001689092   \n",
       "6  O=C(Nc1ccc(C2=[NH+]CCN2)c(Cl)c1)c1ccc(C(=O)Nc2...  ZINC000001689095   \n",
       "7  O=C(Nc1ccc(C2=[NH+]CCN2)cc1)c1cc(Cl)c(C(=O)Nc2...  ZINC000001689504   \n",
       "8  C[C@H]1C[NH+]=C(Cc2ccc(NC(=O)c3ccc(C(=O)Nc4ccc...  ZINC000001696457   \n",
       "9  C[C@@H]1C[NH+]=C(Cc2ccc(NC(=O)c3ccc(C(=O)Nc4cc...  ZINC000001696458   \n",
       "\n",
       "                                     PDB_PATH  \n",
       "0  ./data/3D_coordinates/ZINC000072316390.pdb  \n",
       "1  ./data/3D_coordinates/ZINC001164868914.pdb  \n",
       "2  ./data/3D_coordinates/ZINC001164868936.pdb  \n",
       "3  ./data/3D_coordinates/ZINC001164868939.pdb  \n",
       "4  ./data/3D_coordinates/ZINC001164868941.pdb  \n",
       "5  ./data/3D_coordinates/ZINC000001689092.pdb  \n",
       "6  ./data/3D_coordinates/ZINC000001689095.pdb  \n",
       "7  ./data/3D_coordinates/ZINC000001689504.pdb  \n",
       "8  ./data/3D_coordinates/ZINC000001696457.pdb  \n",
       "9  ./data/3D_coordinates/ZINC000001696458.pdb  "
      ]
     },
     "execution_count": 21,
     "metadata": {},
     "output_type": "execute_result"
    }
   ],
   "source": [
    "pdb_csv = pd.read_csv(\"./data/3D_coordinates.csv\")\n",
    "pdb_csv"
   ]
  },
  {
   "cell_type": "code",
   "execution_count": null,
   "metadata": {},
   "outputs": [],
   "source": []
  }
 ],
 "metadata": {
  "kernelspec": {
   "display_name": "Python 3 (ipykernel)",
   "language": "python",
   "name": "python3"
  },
  "language_info": {
   "codemirror_mode": {
    "name": "ipython",
    "version": 3
   },
   "file_extension": ".py",
   "mimetype": "text/x-python",
   "name": "python",
   "nbconvert_exporter": "python",
   "pygments_lexer": "ipython3",
   "version": "3.11.8"
  }
 },
 "nbformat": 4,
 "nbformat_minor": 2
}
