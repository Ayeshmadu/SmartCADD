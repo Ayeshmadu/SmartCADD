{
 "cells": [
  {
   "cell_type": "code",
   "execution_count": 1,
   "metadata": {},
   "outputs": [
    {
     "name": "stderr",
     "output_type": "stream",
     "text": [
      "No normalization for SPS. Feature removed!\n",
      "No normalization for AvgIpc. Feature removed!\n",
      "Skipped loading some Tensorflow models, missing a dependency. No module named 'tensorflow'\n",
      "Skipped loading modules with pytorch-geometric dependency, missing a dependency. No module named 'torch_geometric'\n",
      "Skipped loading modules with transformers dependency. No module named 'transformers'\n",
      "cannot import name 'HuggingFaceModel' from 'deepchem.models.torch_models' (/lustre/work/client/users/ejlaird/.conda/envs/smartcadd/lib/python3.10/site-packages/deepchem/models/torch_models/__init__.py)\n",
      "Skipped loading modules with pytorch-geometric dependency, missing a dependency. cannot import name 'DMPNN' from 'deepchem.models.torch_models' (/lustre/work/client/users/ejlaird/.conda/envs/smartcadd/lib/python3.10/site-packages/deepchem/models/torch_models/__init__.py)\n",
      "Skipped loading modules with pytorch-lightning dependency, missing a dependency. No module named 'lightning'\n",
      "Skipped loading some Jax models, missing a dependency. No module named 'jax'\n",
      "Skipped loading some PyTorch models, missing a dependency. No module named 'tensorflow'\n",
      "/lustre/work/client/users/ejlaird/.conda/envs/smartcadd/lib/python3.10/site-packages/tqdm/auto.py:21: TqdmWarning: IProgress not found. Please update jupyter and ipywidgets. See https://ipywidgets.readthedocs.io/en/stable/user_install.html\n",
      "  from .autonotebook import tqdm as notebook_tqdm\n"
     ]
    }
   ],
   "source": [
    "import os\n",
    "import smartcadd\n",
    "from smartcadd.dataset import IterableDataset\n",
    "from smartcadd.pipeline import BasicCompoundPipeline\n"
   ]
  },
  {
   "cell_type": "code",
   "execution_count": 2,
   "metadata": {},
   "outputs": [
    {
     "data": {
      "text/plain": [
       "50000"
      ]
     },
     "execution_count": 2,
     "metadata": {},
     "output_type": "execute_result"
    }
   ],
   "source": [
    "dataset = IterableDataset(\n",
    "    root_dir=\"/work/users/ejlaird/data/chemistry\",\n",
    "    batch_size=10,\n",
    ")\n",
    "len(dataset)"
   ]
  },
  {
   "cell_type": "code",
   "execution_count": 8,
   "metadata": {},
   "outputs": [
    {
     "name": "stdout",
     "output_type": "stream",
     "text": [
      "\n",
      "BasicCompoundPipeline: [ (1) DummyFilter -> (2) DummyFilter -> Done ]\n"
     ]
    }
   ],
   "source": [
    "from smartcadd.filters import DummyFilter\n",
    "\n",
    "pipeline = BasicCompoundPipeline(\n",
    "    data_loader=dataset,\n",
    "    filters=[\n",
    "        DummyFilter(),\n",
    "        DummyFilter(),\n",
    "    ])\n",
    "\n",
    "print(pipeline)"
   ]
  },
  {
   "cell_type": "code",
   "execution_count": 6,
   "metadata": {},
   "outputs": [
    {
     "name": "stdout",
     "output_type": "stream",
     "text": [
      "CC(C)(O)C1CC[NH+](Cc2ccc3nc(-c4c5cc[nH]c5ccc4F)nc(N4CCOCC4)c3n2)CC1\n",
      "C[n+]1ccc(NC(=O)c2ccc(NC(=O)c3ccc(C(=O)Nc4ccc(C(=O)Nc5cc[n+](C)cc5)cc4)cc3)cc2)cc1\n",
      "O=C(NCC[NH+]1CCCCC1)Nc1ccc(Cc2ccc(NC(=O)NCC[NH+]3CCCCC3)cc2)cc1\n",
      "C[NH+]1CCC(NC(=O)c2cccc(-c3c[nH]nc3[C@@H]3CCC[N@H+](CCOCc4ccccc4)C3)c2)CC1\n"
     ]
    }
   ],
   "source": [
    "for i, batch in enumerate(pipeline.get_data()):\n",
    "    filtered = pipeline.run_filters(batch)\n",
    "    print(filtered[0].smiles)\n",
    "    if i > 2:\n",
    "        break"
   ]
  },
  {
   "cell_type": "code",
   "execution_count": null,
   "metadata": {},
   "outputs": [],
   "source": []
  }
 ],
 "metadata": {
  "kernelspec": {
   "display_name": "proteins",
   "language": "python",
   "name": "python3"
  },
  "language_info": {
   "codemirror_mode": {
    "name": "ipython",
    "version": 3
   },
   "file_extension": ".py",
   "mimetype": "text/x-python",
   "name": "python",
   "nbconvert_exporter": "python",
   "pygments_lexer": "ipython3",
   "version": "3.10.14"
  }
 },
 "nbformat": 4,
 "nbformat_minor": 2
}
